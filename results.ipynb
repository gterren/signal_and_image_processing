{
 "cells": [
  {
   "cell_type": "code",
   "execution_count": 1,
   "metadata": {},
   "outputs": [],
   "source": [
    "import datetime, time, pickle  \n",
    "\n",
    "import numpy as np\n",
    "import matplotlib.pyplot as plt\n",
    "\n",
    "from scipy.optimize import fmin_l_bfgs_b\n",
    "from datetime import datetime\n",
    "\n",
    "import numpy as np\n",
    "import pickle, datetime\n",
    "import matplotlib.pyplot as plt\n",
    "from scipy.optimize import fmin_l_bfgs_b\n",
    "\n",
    "path = r'/Users/Guille/Desktop/data_processing/data/{}'"
   ]
  },
  {
   "cell_type": "markdown",
   "metadata": {},
   "source": [
    "# Pyranometer Measuremetns Attenuation Bias Model"
   ]
  },
  {
   "cell_type": "code",
   "execution_count": 2,
   "metadata": {},
   "outputs": [
    {
     "name": "stdout",
     "output_type": "stream",
     "text": [
      "(53, 1) (53, 3) (53, 1) (53, 1)\n"
     ]
    }
   ],
   "source": [
    "def load_data(path, name):\n",
    "    file = path.format(name)\n",
    "    \n",
    "    with open(file, 'rb') as f:\n",
    "        X = pickle.Unpickler(f).load()\n",
    "        Y = pickle.Unpickler(f).load()\n",
    "        Z = pickle.Unpickler(f).load()\n",
    "        W = pickle.Unpickler(f).load()            \n",
    "    return X, Y, Z, W\n",
    "\n",
    "X, Y, Z, W = load_data(path, name = 'clear_sky_solar_normal_radiation_fit.pkl')\n",
    "\n",
    "Z = Z[:, np.newaxis] \n",
    "W = W[:, np.newaxis]\n",
    "print(X.shape, Y.shape, Z.shape, W.shape)"
   ]
  },
  {
   "cell_type": "code",
   "execution_count": 3,
   "metadata": {},
   "outputs": [
    {
     "name": "stdout",
     "output_type": "stream",
     "text": [
      "(53, 1) (53, 1)\n",
      "[[342 347 354 104  11 162  99  61 266 139 173  24 175  62 108  94 353  42\n",
      "  136  38 176  13 349 158 343 346  60 202  63 312 255  27 143  22 199  33\n",
      "  144]]\n",
      "53 37 16 (37,) (16,)\n"
     ]
    },
    {
     "data": {
      "image/png": "[encoded data removed]",
      "text/plain": [
       "<Figure size 432x288 with 1 Axes>"
      ]
     },
     "metadata": {
      "needs_background": "light"
     },
     "output_type": "display_data"
    },
    {
     "name": "stdout",
     "output_type": "stream",
     "text": [
      "[9.14666540e-02 5.47271453e-18 1.49130810e+00]\n",
      "0.028870542339456063\n",
      "[0.0824619  0.00500466 1.49321637]\n",
      "0.03219872275768662\n"
     ]
    }
   ],
   "source": [
    "# Function model\n",
    "def _f(d_, A, B, C, N = 365.):\n",
    "    return A * np.sin(B + ( (2*np.pi)/N) * d_) + C\n",
    "\n",
    "# Gradiante of the error function\n",
    "def _G(*var):\n",
    "    # Thetas\n",
    "    a = var[0][0]\n",
    "    b = var[0][1]\n",
    "    c = var[0][2]\n",
    "    # Variables\n",
    "    y_ = var[2]\n",
    "    d_ = var[1]\n",
    "    # Constants\n",
    "    N = 365.\n",
    "    n = y_.shape[0]\n",
    "\n",
    "    y_hat_ = _f(d_, a, b, c)\n",
    "    c  = - (1./n) * ( (y_ - y_hat_) / abs(y_ - y_hat_) )\n",
    "    \n",
    "    g1 = c * np.sin(b + ( (2*np.pi)/N ) * d_)\n",
    "    g2 = c * a * np.sin(b + ( (2*np.pi)/N ) * d_)\n",
    "    g3 = c * 1.\n",
    "    \n",
    "    return np.array((g1.sum(), g2.sum(), g3.sum()))\n",
    "\n",
    "# Error Function\n",
    "def _RMSE(*var):\n",
    "    # Thetas\n",
    "    a = var[0][0]\n",
    "    b = var[0][1]\n",
    "    c = var[0][2]\n",
    "    # Variables\n",
    "    y_ = var[2]\n",
    "    d_ = var[1]\n",
    "    # Make a prediction\n",
    "    y_hat_ = _f(d_, a, b, c)\n",
    "    # Compute Error\n",
    "    return np.sqrt(np.mean((y_ - y_hat_)**2))\n",
    "\n",
    "# Implementation of the line search gradient based optimization method\n",
    "def _L_BFGS(_f, _g, x_tr_, y_tr_, x_0_, bounds_, n_restarts_optimizer = 5):\n",
    "    # Random initialization of the line search for each kernel hyper-parameter within the bounds.\n",
    "    def __random_initialization(bounds_):\n",
    "        D = len(bounds_)\n",
    "        x_k_ = np.zeros(D)\n",
    "        for i in range(D):\n",
    "            x_k_[i] = np.random.uniform(bounds_[i][0], bounds_[i][1])\n",
    "        return x_k_\n",
    "    f_eval = []\n",
    "    x_eval = []\n",
    "    i = 1\n",
    "    while i < n_restarts_optimizer:  \n",
    "    \n",
    "        x_0_ = __random_initialization(bounds_)\n",
    "\n",
    "        # Run the line search BFGS optimization!\n",
    "        OPT = fmin_l_bfgs_b(_f, x0 = x_0_, fprime = _g, args = (x_tr_, y_tr_), \n",
    "                            bounds = bounds_, maxfun = 15000, approx_grad = False)\n",
    "            \n",
    "        if not np.isnan(OPT[1]):\n",
    "            i+=1\n",
    "            f_eval.append(OPT[1])\n",
    "            x_eval.append(OPT[0])\n",
    "\n",
    "    i     = np.argmin(f_eval)\n",
    "    f_opt = f_eval[i]\n",
    "    x_opt = x_eval[i]\n",
    "    return f_opt, x_opt, i\n",
    "\n",
    "def _LOO(d_tr_, s_tr_):\n",
    "    N      = s_tr_.shape[0]\n",
    "    idx_   = np.arange(N, dtype = int)\n",
    "    # Optimization Parameters\n",
    "    x_0_    = np.array([0., 0., 0])\n",
    "    bounds_ = [(0., 10.), (0., 5.), (0., 2.)]\n",
    "    # Variable Initialization\n",
    "    error_ = np.zeros((1, N))\n",
    "    theta_ = np.zeros((3, N))\n",
    "    for i in range(N):\n",
    "        # Get train Index\n",
    "        idx_tr_ = np.delete(idx_, i)\n",
    "        # Run Parameters Optimization\n",
    "        opt_ = _L_BFGS(_RMSE, _G, d_tr_[idx_tr_], s_tr_[idx_tr_], x_0_, bounds_, n_restarts_optimizer = 25)\n",
    "        # Get Parameters\n",
    "        theta_[0, i] = opt_[1][0]\n",
    "        theta_[1, i] = opt_[1][1]\n",
    "        theta_[2, i] = opt_[1][2]\n",
    "        # Get Validation Error\n",
    "        y_hat_val_   = _f(d_tr_[i], A = theta_[0, i], B = theta_[1, i], C = theta_[2, i])\n",
    "        error_[0, i] = np.sqrt( np.mean(( y_hat_val_ - s_tr_[i] )**2 ))\n",
    "    return np.mean(theta_, axis = 1)\n",
    "\n",
    "\n",
    "def _fit(d_, s_, _f, _g):\n",
    "    theta_  = np.zeros((3))\n",
    "    x_0_    = np.array([0., 0., 0])\n",
    "    bounds_ = [(0., 10.), (0., 5.), (0., 2.)]\n",
    "    opt_    = _L_BFGS(_f, _g, d_, s_, x_0_, bounds_, n_restarts_optimizer = 5)\n",
    "    # Get Parameters\n",
    "    theta_[0] = opt_[1][0]\n",
    "    theta_[1] = opt_[1][1]\n",
    "    theta_[2] = opt_[1][2]\n",
    "    return theta_\n",
    "\n",
    "d_ = Z.copy()\n",
    "s_ = W.copy()\n",
    "N = s_.shape[0]\n",
    "print(d_.shape, s_.shape)\n",
    "N_tr = int(N*0.7)\n",
    "N_ts = N - N_tr\n",
    "idx_ = np.linspace(0, N - 1, dtype = int)\n",
    "idx_ = np.random.permutation(idx_)\n",
    "idx_tr_ = idx_[:N_tr]\n",
    "idx_ts_ = idx_[-N_ts:]\n",
    "print(d_[idx_tr_].T)\n",
    "print(N, N_tr, N_ts, idx_tr_.shape, idx_ts_.shape)\n",
    "\n",
    "plt.figure()\n",
    "plt.plot(d_[idx_tr_], s_[idx_tr_], '.')\n",
    "plt.plot(d_[idx_ts_], s_[idx_ts_], '.')\n",
    "plt.show()\n",
    "\n",
    "theta_ = _fit(d_[idx_tr_], s_[idx_tr_], _f = _RMSE, _g = _G)\n",
    "print(theta_)\n",
    "y_hat_ts_ = _f(d_[idx_ts_], A = theta_[0], B = theta_[1], C = theta_[2])\n",
    "e = np.sqrt( np.mean(( np.squeeze(y_hat_ts_) - np.squeeze(s_[idx_ts_]) )**2 ))\n",
    "print(e)\n",
    "\n",
    "theta_ = _LOO(d_[idx_tr_], s_[idx_tr_])\n",
    "print(theta_)\n",
    "y_hat_ts_ = _f(d_[idx_ts_], A = theta_[0], B = theta_[1], C = theta_[2])\n",
    "e = np.sqrt( np.mean(( np.squeeze(y_hat_ts_) - np.squeeze(s_[idx_ts_]) )**2 ))\n",
    "print(e)"
   ]
  },
  {
   "cell_type": "code",
   "execution_count": 4,
   "metadata": {},
   "outputs": [
    {
     "name": "stdout",
     "output_type": "stream",
     "text": [
      "(53, 1)\n",
      "(1095, 1) (1095, 1)\n",
      "(365, 1) (365, 1)\n"
     ]
    },
    {
     "data": {
      "image/png": "[encoded data removed]",
      "text/plain": [
       "<Figure size 540x360 with 1 Axes>"
      ]
     },
     "metadata": {
      "needs_background": "light"
     },
     "output_type": "display_data"
    }
   ],
   "source": [
    "# Maker a Prediction\n",
    "idx_ = np.squeeze((Z < 365) & (Z > 0.))\n",
    "print(Z[idx_].shape)\n",
    "x_ = np.linspace(-365, 2*365, 3*365)[:, np.newaxis]\n",
    "y_ = _f(x_, A = theta_[0], B = theta_[1], C = theta_[2])\n",
    "print(x_.shape, y_.shape)\n",
    "x_hat_ = x_[np.squeeze((x_ < 365) & (x_ > 0.))]\n",
    "y_hat_ = y_[np.squeeze((x_ < 365) & (x_ > 0.))]\n",
    "print(x_hat_.shape, y_hat_.shape)\n",
    "\n",
    "plt.rcParams.update({'font.size': 20})\n",
    "plt.figure(figsize = (7.5, 5))\n",
    "plt.title('Amplitude Bias Model', fontsize = 25)\n",
    "plt.plot(d_[idx_tr_], s_[idx_tr_], 'b.', markersize = 10, label = r'Training Sample')\n",
    "plt.plot(d_[idx_ts_], s_[idx_ts_], 'k.', markersize = 15, label = r'Testing Sample')\n",
    "plt.plot(x_hat_, y_hat_, 'r-', label = r'$\\mathcal{C} ( \\nu, d )$')\n",
    "plt.xlabel(r'd', fontsize = 20)\n",
    "plt.ylabel(r'$\\sigma_d$', fontsize = 20)\n",
    "plt.ylim(1.35, 1.65)\n",
    "plt.xlim(1, 365)\n",
    "plt.yticks(np.arange(1.35, 1.65, .05), fontsize = 15)\n",
    "plt.xticks(np.arange(d_.min(), d_.max(), 100), fontsize = 15)\n",
    "plt.legend(prop = {'size': 15})\n",
    "plt.grid()\n",
    "plt.show()"
   ]
  },
  {
   "cell_type": "markdown",
   "metadata": {},
   "source": [
    "# Pyranometer Measuremetns Shifting Bias Model"
   ]
  },
  {
   "cell_type": "code",
   "execution_count": 5,
   "metadata": {
    "scrolled": true
   },
   "outputs": [
    {
     "data": {
      "image/png": "[encoded data removed]",
      "text/plain": [
       "<Figure size 432x288 with 1 Axes>"
      ]
     },
     "metadata": {
      "needs_background": "light"
     },
     "output_type": "display_data"
    },
    {
     "name": "stdout",
     "output_type": "stream",
     "text": [
      "[[datetime.datetime(2017, 12, 8, 8, 8, 11, 5904)]\n",
      " [datetime.datetime(2017, 12, 9, 8, 8, 55, 212962)]\n",
      " [datetime.datetime(2017, 12, 12, 8, 11, 0, 5739)]\n",
      " [datetime.datetime(2017, 12, 13, 8, 11, 39, 4463)]\n",
      " [datetime.datetime(2017, 12, 15, 8, 12, 54, 7426)]\n",
      " [datetime.datetime(2017, 12, 19, 8, 15, 9, 7693)]\n",
      " [datetime.datetime(2017, 12, 20, 8, 15, 39, 8331)]\n",
      " [datetime.datetime(2018, 1, 1, 8, 19, 46, 5015)]\n",
      " [datetime.datetime(2018, 1, 11, 8, 20, 10, 4544)]\n",
      " [datetime.datetime(2018, 1, 12, 8, 20, 3, 5042)]\n",
      " [datetime.datetime(2018, 1, 13, 8, 19, 54, 5823)]\n",
      " [datetime.datetime(2018, 1, 22, 8, 17, 16, 10969)]\n",
      " [datetime.datetime(2018, 1, 24, 8, 16, 22, 5041)]\n",
      " [datetime.datetime(2018, 1, 27, 8, 14, 49, 5232)]\n",
      " [datetime.datetime(2018, 2, 2, 8, 10, 58, 6303)]\n",
      " [datetime.datetime(2018, 2, 7, 8, 7, 3, 1555)]\n",
      " [datetime.datetime(2018, 2, 11, 8, 3, 28, 1646)]\n",
      " [datetime.datetime(2018, 2, 26, 7, 47, 5, 1206)]\n",
      " [datetime.datetime(2018, 3, 1, 7, 43, 20, 1891)]\n",
      " [datetime.datetime(2018, 3, 2, 7, 42, 3, 1228)]\n",
      " [datetime.datetime(2018, 3, 3, 7, 40, 45, 1810)]\n",
      " [datetime.datetime(2018, 3, 4, 7, 39, 27, 1542)]\n",
      " [datetime.datetime(2018, 4, 4, 7, 55, 28, 2614)]\n",
      " [datetime.datetime(2018, 4, 9, 7, 48, 24, 1301)]\n",
      " [datetime.datetime(2018, 4, 14, 7, 41, 32, 3311)]\n",
      " [datetime.datetime(2018, 4, 18, 7, 36, 15, 8014)]\n",
      " [datetime.datetime(2018, 4, 23, 7, 29, 56, 3906)]\n",
      " [datetime.datetime(2018, 5, 16, 7, 6, 46, 4493)]\n",
      " [datetime.datetime(2018, 5, 19, 7, 4, 38, 2593)]\n",
      " [datetime.datetime(2018, 5, 23, 7, 2, 8, 2168)]\n",
      " [datetime.datetime(2018, 5, 24, 7, 1, 35, 9609)]\n",
      " [datetime.datetime(2018, 6, 7, 6, 56, 36, 4480)]\n",
      " [datetime.datetime(2018, 6, 8, 6, 56, 27, 4827)]\n",
      " [datetime.datetime(2018, 6, 11, 6, 56, 9, 4769)]\n",
      " [datetime.datetime(2018, 6, 12, 6, 56, 7, 4803)]\n",
      " [datetime.datetime(2018, 6, 22, 6, 57, 5, 1664)]\n",
      " [datetime.datetime(2018, 6, 24, 6, 57, 35, 1513)]\n",
      " [datetime.datetime(2018, 6, 25, 6, 57, 52, 10126)]\n",
      " [datetime.datetime(2018, 7, 1, 7, 0, 0, 5018)]\n",
      " [datetime.datetime(2018, 7, 18, 7, 9, 31, 4012)]\n",
      " [datetime.datetime(2018, 7, 21, 7, 11, 35, 8500)]\n",
      " [datetime.datetime(2018, 8, 9, 7, 25, 57, 110749)]\n",
      " [datetime.datetime(2018, 9, 12, 7, 52, 11, 24546)]\n",
      " [datetime.datetime(2018, 9, 13, 7, 52, 56, 98210)]\n",
      " [datetime.datetime(2018, 9, 15, 7, 54, 27, 92315)]\n",
      " [datetime.datetime(2018, 9, 18, 7, 56, 45, 123858)]\n",
      " [datetime.datetime(2018, 9, 22, 7, 59, 49, 184046)]\n",
      " [datetime.datetime(2018, 9, 23, 8, 0, 36, 230265)]\n",
      " [datetime.datetime(2018, 11, 2, 8, 35, 19, 20530)]\n",
      " [datetime.datetime(2018, 11, 5, 7, 38, 13, 27573)]\n",
      " [datetime.datetime(2018, 11, 6, 7, 39, 12, 22542)]\n",
      " [datetime.datetime(2018, 11, 7, 7, 40, 10, 28690)]\n",
      " [datetime.datetime(2018, 11, 8, 7, 41, 8, 25426)]\n",
      " [datetime.datetime(2018, 11, 24, 7, 56, 27, 28909)]\n",
      " [datetime.datetime(2018, 11, 27, 7, 59, 9, 55888)]\n",
      " [datetime.datetime(2018, 12, 9, 8, 8, 51, 28443)]\n",
      " [datetime.datetime(1969, 12, 31, 17, 0, 31, 572236)]]\n",
      "(57, 1) (57, 1) (57, 1)\n"
     ]
    }
   ],
   "source": [
    "def load_data(path, name):\n",
    "    file = path.format(name)\n",
    "    \n",
    "    with open(file, 'rb') as f:\n",
    "        X = pickle.Unpickler(f).load()\n",
    "        Y = pickle.Unpickler(f).load()           \n",
    "    return X, Y\n",
    "\n",
    "Z, W = load_data(path, name = 'clear_sky_ghi.pkl')\n",
    "Z = Z[:, np.newaxis] \n",
    "W = W[:, np.newaxis]\n",
    "\n",
    "plt.figure()\n",
    "plt.plot(W)\n",
    "plt.show()\n",
    "\n",
    "print(Z)\n",
    "\n",
    "N = Z.shape[0]\n",
    "O = np.linspace(1, N, N)[:, np.newaxis]\n",
    "print(Z.shape, W.shape, O.shape)\n",
    "\n",
    "for i in range(0, len(Z)):\n",
    "    Z[i][0] = Z[i][0].timetuple().tm_yday"
   ]
  },
  {
   "cell_type": "code",
   "execution_count": 6,
   "metadata": {},
   "outputs": [
    {
     "name": "stdout",
     "output_type": "stream",
     "text": [
      "[[342 343 346 347 349 353 354]]\n",
      "[[1 11 12 13 22 24 27 33 38 42 57 60 61 62 63 94 99 104 108 113 136 139\n",
      "  143 144 158 159 162 163 173 175 176 182 199 202 221 255 256 258 261 265\n",
      "  266 306 309 310 311 312 328 331 343 365]]\n",
      "[342. 343. 344. 345. 346. 347. 348. 349. 350. 351. 352. 353. 354. 355.\n",
      " 356. 357. 358. 359. 360. 361. 362. 363. 364. 365.]\n",
      "[  1.   2.   3.   4.   5.   6.   7.   8.   9.  10.  11.  12.  13.  14.\n",
      "  15.  16.  17.  18.  19.  20.  21.  22.  23.  24.  25.  26.  27.  28.\n",
      "  29.  30.  31.  32.  33.  34.  35.  36.  37.  38.  39.  40.  41.  42.\n",
      "  43.  44.  45.  46.  47.  48.  49.  50.  51.  52.  53.  54.  55.  56.\n",
      "  57.  58.  59.  60.  61.  62.  63.  64.  65.  66.  67.  68.  69.  70.\n",
      "  71.  72.  73.  74.  75.  76.  77.  78.  79.  80.  81.  82.  83.  84.\n",
      "  85.  86.  87.  88.  89.  90.  91.  92.  93.  94.  95.  96.  97.  98.\n",
      "  99. 100. 101. 102. 103. 104. 105. 106. 107. 108. 109. 110. 111. 112.\n",
      " 113. 114. 115. 116. 117. 118. 119. 120. 121. 122. 123. 124. 125. 126.\n",
      " 127. 128. 129. 130. 131. 132. 133. 134. 135. 136. 137. 138. 139. 140.\n",
      " 141. 142. 143. 144. 145. 146. 147. 148. 149. 150. 151. 152. 153. 154.\n",
      " 155. 156. 157. 158. 159. 160. 161. 162. 163. 164. 165. 166. 167. 168.\n",
      " 169. 170. 171. 172. 173. 174. 175. 176. 177. 178. 179. 180. 181. 182.\n",
      " 183. 184. 185. 186. 187. 188. 189. 190. 191. 192. 193. 194. 195. 196.\n",
      " 197. 198. 199. 200. 201. 202. 203. 204. 205. 206. 207. 208. 209. 210.\n",
      " 211. 212. 213. 214. 215. 216. 217. 218. 219. 220. 221. 222. 223. 224.\n",
      " 225. 226. 227. 228. 229. 230. 231. 232. 233. 234. 235. 236. 237. 238.\n",
      " 239. 240. 241. 242. 243. 244. 245. 246. 247. 248. 249. 250. 251. 252.\n",
      " 253. 254. 255. 256. 257. 258. 259. 260. 261. 262. 263. 264. 265. 266.\n",
      " 267. 268. 269. 270. 271. 272. 273. 274. 275. 276. 277. 278. 279. 280.\n",
      " 281. 282. 283. 284. 285. 286. 287. 288. 289. 290. 291. 292. 293. 294.\n",
      " 295. 296. 297. 298. 299. 300. 301. 302. 303. 304. 305. 306. 307. 308.\n",
      " 309. 310. 311. 312. 313. 314. 315. 316. 317. 318. 319. 320. 321. 322.\n",
      " 323. 324. 325. 326. 327. 328. 329. 330. 331. 332. 333. 334. 335. 336.\n",
      " 337. 338. 339. 340. 341. 342. 343. 344. 345. 346. 347. 348. 349. 350.\n",
      " 351. 352. 353. 354. 355. 356. 357. 358. 359. 360. 361. 362. 363. 364.\n",
      " 365.]\n",
      "(389,)\n",
      "[-23. -22. -21. -20. -19. -18. -17. -16. -15. -14. -13. -12. -11. -10.\n",
      "  -9.  -8.  -7.  -6.  -5.  -4.  -3.  -2.  -1.   0.   1.   2.   3.   4.\n",
      "   5.   6.   7.   8.   9.  10.  11.  12.  13.  14.  15.  16.  17.  18.\n",
      "  19.  20.  21.  22.  23.  24.  25.  26.  27.  28.  29.  30.  31.  32.\n",
      "  33.  34.  35.  36.  37.  38.  39.  40.  41.  42.  43.  44.  45.  46.\n",
      "  47.  48.  49.  50.  51.  52.  53.  54.  55.  56.  57.  58.  59.  60.\n",
      "  61.  62.  63.  64.  65.  66.  67.  68.  69.  70.  71.  72.  73.  74.\n",
      "  75.  76.  77.  78.  79.  80.  81.  82.  83.  84.  85.  86.  87.  88.\n",
      "  89.  90.  91.  92.  93.  94.  95.  96.  97.  98.  99. 100. 101. 102.\n",
      " 103. 104. 105. 106. 107. 108. 109. 110. 111. 112. 113. 114. 115. 116.\n",
      " 117. 118. 119. 120. 121. 122. 123. 124. 125. 126. 127. 128. 129. 130.\n",
      " 131. 132. 133. 134. 135. 136. 137. 138. 139. 140. 141. 142. 143. 144.\n",
      " 145. 146. 147. 148. 149. 150. 151. 152. 153. 154. 155. 156. 157. 158.\n",
      " 159. 160. 161. 162. 163. 164. 165. 166. 167. 168. 169. 170. 171. 172.\n",
      " 173. 174. 175. 176. 177. 178. 179. 180. 181. 182. 183. 184. 185. 186.\n",
      " 187. 188. 189. 190. 191. 192. 193. 194. 195. 196. 197. 198. 199. 200.\n",
      " 201. 202. 203. 204. 205. 206. 207. 208. 209. 210. 211. 212. 213. 214.\n",
      " 215. 216. 217. 218. 219. 220. 221. 222. 223. 224. 225. 226. 227. 228.\n",
      " 229. 230. 231. 232. 233. 234. 235. 236. 237. 238. 239. 240. 241. 242.\n",
      " 243. 244. 245. 246. 247. 248. 249. 250. 251. 252. 253. 254. 255. 256.\n",
      " 257. 258. 259. 260. 261. 262. 263. 264. 265. 266. 267. 268. 269. 270.\n",
      " 271. 272. 273. 274. 275. 276. 277. 278. 279. 280. 281. 282. 283. 284.\n",
      " 285. 286. 287. 288. 289. 290. 291. 292. 293. 294. 295. 296. 297. 298.\n",
      " 299. 300. 301. 302. 303. 304. 305. 306. 307. 308. 309. 310. 311. 312.\n",
      " 313. 314. 315. 316. 317. 318. 319. 320. 321. 322. 323. 324. 325. 326.\n",
      " 327. 328. 329. 330. 331. 332. 333. 334. 335. 336. 337. 338. 339. 340.\n",
      " 341. 342. 343. 344. 345. 346. 347. 348. 349. 350. 351. 352. 353. 354.\n",
      " 355. 356. 357. 358. 359. 360. 361. 362. 363. 364. 365.]\n"
     ]
    }
   ],
   "source": [
    "i = np.where(Z == 1)[0][0]\n",
    "z_1_ = Z[:i]\n",
    "z_2_ = Z[i:]\n",
    "print(z_1_.T)\n",
    "print(z_2_.T)\n",
    "x_1_ = np.linspace(z_1_.min(), 365, 365 - z_1_.min() + 1)\n",
    "x_2_ = np.linspace(z_2_.min(), z_2_.max(), 365)\n",
    "print(x_1_.T)\n",
    "print(x_2_.T)\n",
    "x_ = np.concatenate((x_1_, x_2_), axis = 0)\n",
    "print(x_.shape)\n",
    "\n",
    "i = np.where(x_ == 1)[0][0]\n",
    "x_[:i] -= 365\n",
    "print(x_)\n",
    "\n",
    "i = np.where(Z == 1)[0][0]\n",
    "Z[:i] -= 365"
   ]
  },
  {
   "cell_type": "code",
   "execution_count": 7,
   "metadata": {},
   "outputs": [
    {
     "name": "stdout",
     "output_type": "stream",
     "text": [
      "(57, 1) (57, 1)\n",
      "[ 0  1  2  3  4  5  6  8  9 10 11 12 13 14 16 17 18 19 20 21 22 24 25 26\n",
      " 27 28 29 30 32 33 34 35 36 37 38 40 41 42 43 44 45 46 48 49 50 51 52 53\n",
      " 54 56]\n",
      "57 39 18 (39,) (18,)\n",
      "[[139 -22 143 113 162 22 306 255 173 221 94 24 311 310 61 309 159 -19]]\n"
     ]
    },
    {
     "data": {
      "image/png": "[encoded data removed]",
      "text/plain": [
       "<Figure size 432x288 with 1 Axes>"
      ]
     },
     "metadata": {
      "needs_background": "light"
     },
     "output_type": "display_data"
    },
    {
     "name": "stdout",
     "output_type": "stream",
     "text": [
      "-39.1764705882353 2713.769230769231 -2771.75 0.38974358974358975\n",
      "673.2516897051894\n",
      "-39.17647058823531 2713.769230769231 -2771.75 0.3898110661268557\n",
      "673.2516854988693\n"
     ]
    }
   ],
   "source": [
    "def _pieceswise_model(dt_, d_, d_1, d_2, d_3, d_4):\n",
    "    y_1 = np.mean(dt_[d_ < d_1])\n",
    "    y_2 = np.mean(dt_[(d_ > d_1) & (d_ < d_2)])\n",
    "    y_3 = np.mean(dt_[(d_ > d_2) & (d_ < d_3)])\n",
    "    y_4 = np.mean(dt_[d_ > d_3] & (d_ < d_4))\n",
    "    return y_1, y_2, y_3, y_4\n",
    "\n",
    "def _predict(x_, y_1, y_2, y_3, y_4, d_1, d_2, d_3, d_4):\n",
    "    y_hat_ = x_.copy()\n",
    "    y_hat_[x_ <= d_1] = y_1\n",
    "    y_hat_[x_ > d_1]  = y_2\n",
    "    y_hat_[x_ > d_2]  = y_3\n",
    "    y_hat_[x_ > d_3]  = y_4\n",
    "    y_hat_[x_ > d_4]  = 0\n",
    "    return y_hat_\n",
    "\n",
    "def _LOO(dt_tr_, d_tr_):\n",
    "    N      = dt_tr_.shape[0]\n",
    "    idx_   = np.arange(N, dtype = int)\n",
    "    theta_ = np.zeros((4, N))\n",
    "    error_ = np.zeros((1, N))\n",
    "    for i in idx_:\n",
    "        idx_tr_  = np.delete(idx_, i)\n",
    "        y_1, y_2, y_3, y_4 = _pieceswise_model(dt_tr_[idx_tr_], d_tr_[idx_tr_], d_1 = 72, d_2 = 220, d_3 = 305, d_4 = 340)\n",
    "        y_hat_val_ = _predict(d_tr_[i], y_1, y_2, y_3, y_4, d_1 = 72, d_2 = 220, d_3 = 305, d_4 = 340)\n",
    "        error_[:, i] = np.sqrt( np.mean(( np.squeeze(y_hat_val_) - np.squeeze(dt_tr_[i]) )**2 ))\n",
    "        theta_[:, i] = np.array((y_1, y_2, y_3, y_4 ))\n",
    "    return np.mean(theta_, axis = 1)\n",
    "\n",
    "N = W.shape[0]\n",
    "dt_ = W\n",
    "d_  = Z\n",
    "print(dt_.shape, d_.shape)\n",
    "\n",
    "N_tr = int(N*0.7)\n",
    "N_ts = N - N_tr\n",
    "idx_ = np.linspace(0, N - 1, dtype = int)\n",
    "print(idx_)\n",
    "idx_ = np.random.permutation(idx_)\n",
    "idx_tr_ = idx_[:N_tr]\n",
    "idx_ts_ = idx_[-N_ts:]\n",
    "print(N, N_tr, N_ts, idx_tr_.shape, idx_ts_.shape)\n",
    "print(d_[idx_ts_].T)\n",
    "plt.figure()\n",
    "plt.plot(d_[idx_tr_], dt_[idx_tr_], '.')\n",
    "plt.plot(d_[idx_ts_], dt_[idx_ts_], '.')\n",
    "plt.show()\n",
    "\n",
    "y_1, y_2, y_3, y_4 = _pieceswise_model(dt_[idx_tr_], d_[idx_tr_], d_1 = 72, d_2 = 220, d_3 = 305, d_4 = 340)\n",
    "print(y_1, y_2, y_3, y_4)\n",
    "\n",
    "y_hat_ts_ = _predict(d_[idx_ts_], y_1, y_2, y_3, y_4, d_1 = 72, d_2 = 220, d_3 = 305, d_4 = 340)\n",
    "e = np.sqrt( np.mean(( np.squeeze(y_hat_ts_) - np.squeeze(dt_[idx_ts_]) )**2 ))\n",
    "print(e)\n",
    "\n",
    "y_1, y_2, y_3, y_4 = _LOO(dt_[idx_tr_], d_[idx_tr_])\n",
    "print(y_1, y_2, y_3, y_4)\n",
    "y_hat_ts_ = _predict(d_[idx_ts_], y_1, y_2, y_3, y_4, d_1 = 72, d_2 = 220, d_3 = 305, d_4 = 340)\n",
    "e = np.sqrt( np.mean(( np.squeeze(y_hat_ts_) - np.squeeze(dt_[idx_ts_]) )**2 ))\n",
    "print(e)"
   ]
  },
  {
   "cell_type": "code",
   "execution_count": 8,
   "metadata": {},
   "outputs": [
    {
     "data": {
      "image/png": "[encoded data removed]",
      "text/plain": [
       "<Figure size 540x360 with 1 Axes>"
      ]
     },
     "metadata": {
      "needs_background": "light"
     },
     "output_type": "display_data"
    }
   ],
   "source": [
    "y_ = _predict(x_, y_1, y_2, y_3, y_4, d_1 = 72, d_2 = 220, d_3 = 305, d_4 = 340)\n",
    "\n",
    "plt.rcParams.update({'font.size': 20})\n",
    "plt.figure(figsize = (7.5, 5))\n",
    "plt.title('Shifting Bias Model', fontsize = 25)\n",
    "plt.plot(d_[idx_tr_], dt_[idx_tr_], 'b.', markersize = 10, label = r'Training Sample')\n",
    "plt.plot(d_[idx_ts_], dt_[idx_ts_], 'k.', markersize = 15, label = r'Testing Sample')\n",
    "plt.plot(x_, y_, 'r-', label = r'$\\mathcal{PW} (\\zeta, d)$')\n",
    "plt.xlabel(r'd', fontsize = 20)\n",
    "plt.ylim(-4000, 5000)\n",
    "plt.ylabel(r'$\\Delta k_d$', fontsize = 20)\n",
    "plt.yticks(np.arange(-4000, 5000, 1500), fontsize = 15)\n",
    "plt.xticks(np.arange(d_.min(), d_.max(), 100), fontsize = 15)\n",
    "plt.legend(prop={'size': 15})\n",
    "plt.grid()\n",
    "plt.show()"
   ]
  },
  {
   "cell_type": "code",
   "execution_count": null,
   "metadata": {},
   "outputs": [],
   "source": []
  }
 ],
 "metadata": {
  "kernelspec": {
   "display_name": "Python 3",
   "language": "python",
   "name": "python3"
  },
  "language_info": {
   "codemirror_mode": {
    "name": "ipython",
    "version": 3
   },
   "file_extension": ".py",
   "mimetype": "text/x-python",
   "name": "python",
   "nbconvert_exporter": "python",
   "pygments_lexer": "ipython3",
   "version": "3.8.5"
  }
 },
 "nbformat": 4,
 "nbformat_minor": 4
}
